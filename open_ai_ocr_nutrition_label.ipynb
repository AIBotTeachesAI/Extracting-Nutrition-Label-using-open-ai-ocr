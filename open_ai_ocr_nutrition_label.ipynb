{
 "cells": [
  {
   "cell_type": "code",
   "execution_count": null,
   "id": "48e9868f-a4a7-4f2e-a0aa-23b5d9301d1d",
   "metadata": {},
   "outputs": [],
   "source": []
  },
  {
   "cell_type": "code",
   "execution_count": null,
   "id": "5cd7b035-d706-402e-8616-e6ed0e61f224",
   "metadata": {},
   "outputs": [],
   "source": []
  },
  {
   "cell_type": "code",
   "execution_count": 3,
   "id": "5e767c01-7003-4370-a39d-c8a0a7913af5",
   "metadata": {},
   "outputs": [
    {
     "name": "stdin",
     "output_type": "stream",
     "text": [
      " ········\n"
     ]
    }
   ],
   "source": [
    "import openai\n",
    "import getpass\n",
    "import os\n",
    "\n",
    "#openai.api_key = getpass.getpass(\"Enter your OpenAI API key: \")\n",
    "os.environ[\"OPENAI_API_KEY\"] = getpass.getpass()\n"
   ]
  },
  {
   "cell_type": "code",
   "execution_count": 18,
   "id": "e42ea0f9-555e-4827-9414-da8c315abd2d",
   "metadata": {},
   "outputs": [],
   "source": [
    "import requests\n",
    "from PIL import Image\n",
    "# Download the FDA-provided sample image\n",
    "image_url = \"https://www.fda.gov/media/137352/download\"  # Replace with another link if necessary\n",
    "image_path = \"nutrition_label_sample.png\"\n",
    "\n",
    "# Download and convert the image\n",
    "response = requests.get(image_url)\n",
    "with open(\"temp_image.pdf\", \"wb\") as f:\n",
    "    f.write(response.content)"
   ]
  },
  {
   "cell_type": "code",
   "execution_count": 7,
   "id": "285f6d12-ff1f-4fec-a060-bf688f5e096d",
   "metadata": {},
   "outputs": [
    {
     "name": "stdout",
     "output_type": "stream",
     "text": [
      "File downloaded successfully, size: 155847 bytes.\n"
     ]
    }
   ],
   "source": [
    "import os\n",
    "\n",
    "# Check file size to ensure it downloaded correctly\n",
    "if os.path.exists(\"temp_image.pdf\"):\n",
    "    file_size = os.path.getsize(\"temp_image.pdf\")\n",
    "    print(f\"File downloaded successfully, size: {file_size} bytes.\")\n",
    "else:\n",
    "    print(\"File download failed. Please check the URL.\")\n"
   ]
  },
  {
   "cell_type": "code",
   "execution_count": 8,
   "id": "4c349b28-505b-4b85-91ce-deda06b12e0a",
   "metadata": {},
   "outputs": [
    {
     "name": "stdout",
     "output_type": "stream",
     "text": [
      "b'%PDF-1.7\\r%\\xe2\\xe3\\xcf\\xd3\\r\\n21 0 obj\\r<</Linearized 1/L 150436/O 24/E 145152/N 1/T 149901/H [ 1176 278]>>\\rendobj\\r'\n"
     ]
    }
   ],
   "source": [
    "with open(\"temp_image.pdf\", \"rb\") as f:\n",
    "    content = f.read(100)  # Read the first 100 bytes\n",
    "    print(content)\n"
   ]
  },
  {
   "cell_type": "code",
   "execution_count": 9,
   "id": "7a2687de-98e5-48bd-9bdb-5698d5d41c1a",
   "metadata": {},
   "outputs": [
    {
     "name": "stdout",
     "output_type": "stream",
     "text": [
      "Collecting pymupdf\n",
      "  Downloading pymupdf-1.25.1-cp39-abi3-macosx_11_0_arm64.whl.metadata (3.4 kB)\n",
      "Downloading pymupdf-1.25.1-cp39-abi3-macosx_11_0_arm64.whl (18.6 MB)\n",
      "\u001b[2K   \u001b[90m━━━━━━━━━━━━━━━━━━━━━━━━━━━━━━━━━━━━━━━━\u001b[0m \u001b[32m18.6/18.6 MB\u001b[0m \u001b[31m32.4 MB/s\u001b[0m eta \u001b[36m0:00:00\u001b[0ma \u001b[36m0:00:01\u001b[0m\n",
      "Installing collected packages: pymupdf\n",
      "Successfully installed pymupdf-1.25.1\n",
      "\n",
      "\u001b[1m[\u001b[0m\u001b[34;49mnotice\u001b[0m\u001b[1;39;49m]\u001b[0m\u001b[39;49m A new release of pip is available: \u001b[0m\u001b[31;49m24.2\u001b[0m\u001b[39;49m -> \u001b[0m\u001b[32;49m24.3.1\u001b[0m\n",
      "\u001b[1m[\u001b[0m\u001b[34;49mnotice\u001b[0m\u001b[1;39;49m]\u001b[0m\u001b[39;49m To update, run: \u001b[0m\u001b[32;49mpip install --upgrade pip\u001b[0m\n",
      "Note: you may need to restart the kernel to use updated packages.\n"
     ]
    }
   ],
   "source": [
    "pip install pymupdf\n"
   ]
  },
  {
   "cell_type": "code",
   "execution_count": 10,
   "id": "1098fba5-6ed5-495e-a3b4-f74755cbf1c9",
   "metadata": {},
   "outputs": [
    {
     "name": "stdout",
     "output_type": "stream",
     "text": [
      "PDF successfully converted to PNG.\n"
     ]
    }
   ],
   "source": [
    "import fitz  # PyMuPDF\n",
    "\n",
    "try:\n",
    "    pdf_document = fitz.open(\"temp_image.pdf\")\n",
    "    page = pdf_document[0]  # Get the first page\n",
    "    pix = page.get_pixmap()\n",
    "    pix.save(\"nutrition_label_sample.png\")  # Save as PNG\n",
    "    print(\"PDF successfully converted to PNG.\")\n",
    "except Exception as e:\n",
    "    print(f\"Error during PDF conversion: {e}\")\n"
   ]
  },
  {
   "cell_type": "code",
   "execution_count": 11,
   "id": "1374a45e-97cb-4b88-991a-0b6676227f00",
   "metadata": {},
   "outputs": [
    {
     "name": "stdout",
     "output_type": "stream",
     "text": [
      "Image file created successfully, size: 38137 bytes.\n"
     ]
    }
   ],
   "source": [
    "if os.path.exists(\"nutrition_label_sample.png\"):\n",
    "    file_size = os.path.getsize(\"nutrition_label_sample.png\")\n",
    "    print(f\"Image file created successfully, size: {file_size} bytes.\")\n",
    "else:\n",
    "    print(\"Image file creation failed.\")\n"
   ]
  },
  {
   "cell_type": "code",
   "execution_count": 12,
   "id": "623fd33d-2e6f-447e-a4a1-52fef41f2b66",
   "metadata": {},
   "outputs": [
    {
     "name": "stdout",
     "output_type": "stream",
     "text": [
      "Image successfully encoded to base64.\n"
     ]
    }
   ],
   "source": [
    "try:\n",
    "    base64_image = encode_image(\"nutrition_label_sample.png\")\n",
    "    print(\"Image successfully encoded to base64.\")\n",
    "except Exception as e:\n",
    "    print(f\"Error during base64 encoding: {e}\")\n"
   ]
  },
  {
   "cell_type": "code",
   "execution_count": 17,
   "id": "9384a44b-d1ab-4429-aaf2-9157bc7297ca",
   "metadata": {},
   "outputs": [
    {
     "name": "stdout",
     "output_type": "stream",
     "text": [
      "Image successfully encoded to base64.\n",
      "Extracted Nutritional Information:\n",
      "Here’s the nutritional information extracted from the label:\n",
      "\n",
      "- **Serving Size:** 2/3 cup (55g)\n",
      "- **Calories per serving:** 230\n",
      "\n",
      "### Nutritional Information\n",
      "\n",
      "- **Total Fat:** 8g (10% Daily Value)\n",
      "  - Saturated Fat: 1g (5% Daily Value)\n",
      "  - Trans Fat: 0g\n",
      "- **Cholesterol:** 0mg (0% Daily Value)\n",
      "- **Sodium:** 160mg (7% Daily Value)\n",
      "- **Total Carbohydrate:** 37g (13% Daily Value)\n",
      "  - Dietary Fiber: 4g (14% Daily Value)\n",
      "  - Total Sugars: 12g \n",
      "    - Includes 10g Added Sugars (20% Daily Value)\n",
      "- **Protein:** 3g\n",
      "\n",
      "### Vitamins and Minerals\n",
      "- **Vitamin D:** 2mcg (10% Daily Value)\n",
      "- **Calcium:** 260mg (20% Daily Value)\n",
      "- **Iron:** 8mg (45% Daily Value)\n",
      "- **Potassium:** 240mg (6% Daily Value) \n",
      "\n",
      "**Note:** % Daily Values are based on a 2,000 calorie diet.\n"
     ]
    }
   ],
   "source": [
    "import base64\n",
    "from openai import OpenAI\n",
    "\n",
    "# Initialize the OpenAI client\n",
    "client = OpenAI()\n",
    "\n",
    "# Function to encode the image as base64\n",
    "def encode_image(image_path):\n",
    "    with open(image_path, \"rb\") as image_file:\n",
    "        return base64.b64encode(image_file.read()).decode(\"utf-8\")\n",
    "\n",
    "# Path to the PNG file created in earlier steps\n",
    "image_path = \"nutrition_label_sample.png\"\n",
    "\n",
    "# Encode the PNG file in base64\n",
    "try:\n",
    "    base64_image = encode_image(image_path)\n",
    "    print(\"Image successfully encoded to base64.\")\n",
    "except Exception as e:\n",
    "    print(f\"Error during base64 encoding: {e}\")\n",
    "    raise e\n",
    "\n",
    "# Call the OpenAI Vision API with the base64-encoded image\n",
    "try:\n",
    "    response = client.chat.completions.create(\n",
    "        model=\"gpt-4o-mini\",\n",
    "        messages=[\n",
    "            {\n",
    "                \"role\": \"user\",\n",
    "                \"content\": [\n",
    "                    {\"type\": \"text\", \"text\": \"Extract the nutritional information from this label:\"},\n",
    "                    {\"type\": \"image_url\", \"image_url\": {\"url\": f\"data:image/png;base64,{base64_image}\"}},\n",
    "                ],\n",
    "            }\n",
    "        ],\n",
    "        max_tokens=300,\n",
    "    )\n",
    "\n",
    "    # Display the response\n",
    "    print(\"Extracted Nutritional Information:\")\n",
    "    print(response.choices[0].message.content)\n",
    "except Exception as e:\n",
    "    print(f\"Error during API call: {e}\")\n",
    "    raise e\n"
   ]
  },
  {
   "cell_type": "code",
   "execution_count": null,
   "id": "42e73d1a-3521-4b05-bc4d-bdcdfc1fceb1",
   "metadata": {},
   "outputs": [],
   "source": []
  }
 ],
 "metadata": {
  "kernelspec": {
   "display_name": "Python 3 (ipykernel)",
   "language": "python",
   "name": "python3"
  },
  "language_info": {
   "codemirror_mode": {
    "name": "ipython",
    "version": 3
   },
   "file_extension": ".py",
   "mimetype": "text/x-python",
   "name": "python",
   "nbconvert_exporter": "python",
   "pygments_lexer": "ipython3",
   "version": "3.13.0"
  }
 },
 "nbformat": 4,
 "nbformat_minor": 5
}
